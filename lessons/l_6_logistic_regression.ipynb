{
 "cells": [
  {
   "cell_type": "markdown",
   "metadata": {},
   "source": [
    "# Logistic regression"
   ]
  },
  {
   "cell_type": "markdown",
   "metadata": {},
   "source": [
    "Import libraries, data, and select depndent and independent variables."
   ]
  },
  {
   "cell_type": "code",
   "execution_count": null,
   "metadata": {},
   "outputs": [
    {
     "data": {
      "text/html": [
       "<div>\n",
       "<style scoped>\n",
       "    .dataframe tbody tr th:only-of-type {\n",
       "        vertical-align: middle;\n",
       "    }\n",
       "\n",
       "    .dataframe tbody tr th {\n",
       "        vertical-align: top;\n",
       "    }\n",
       "\n",
       "    .dataframe thead th {\n",
       "        text-align: right;\n",
       "    }\n",
       "</style>\n",
       "<table border=\"1\" class=\"dataframe\">\n",
       "  <thead>\n",
       "    <tr style=\"text-align: right;\">\n",
       "      <th></th>\n",
       "      <th>MaxHR</th>\n",
       "    </tr>\n",
       "  </thead>\n",
       "  <tbody>\n",
       "    <tr>\n",
       "      <th>0</th>\n",
       "      <td>150</td>\n",
       "    </tr>\n",
       "    <tr>\n",
       "      <th>1</th>\n",
       "      <td>108</td>\n",
       "    </tr>\n",
       "    <tr>\n",
       "      <th>2</th>\n",
       "      <td>129</td>\n",
       "    </tr>\n",
       "    <tr>\n",
       "      <th>3</th>\n",
       "      <td>187</td>\n",
       "    </tr>\n",
       "    <tr>\n",
       "      <th>4</th>\n",
       "      <td>172</td>\n",
       "    </tr>\n",
       "  </tbody>\n",
       "</table>\n",
       "</div>"
      ],
      "text/plain": [
       "   MaxHR\n",
       "0    150\n",
       "1    108\n",
       "2    129\n",
       "3    187\n",
       "4    172"
      ]
     },
     "execution_count": 6,
     "metadata": {},
     "output_type": "execute_result"
    }
   ],
   "source": [
    "import pandas as pd\n",
    "import numpy as np\n",
    "\n",
    "df = pd.read_csv(\"../data/Heart.csv\")\n",
    "df['AHD'] = df['AHD'].map({'No' : 0, 'Yes' : 1})\n",
    "\n",
    "X = df[['MaxHR']]\n",
    "y = df['AHD']"
   ]
  },
  {
   "cell_type": "code",
   "execution_count": null,
   "metadata": {},
   "outputs": [
    {
     "data": {
      "text/html": [
       "<div>\n",
       "<style scoped>\n",
       "    .dataframe tbody tr th:only-of-type {\n",
       "        vertical-align: middle;\n",
       "    }\n",
       "\n",
       "    .dataframe tbody tr th {\n",
       "        vertical-align: top;\n",
       "    }\n",
       "\n",
       "    .dataframe thead th {\n",
       "        text-align: right;\n",
       "    }\n",
       "</style>\n",
       "<table border=\"1\" class=\"dataframe\">\n",
       "  <thead>\n",
       "    <tr style=\"text-align: right;\">\n",
       "      <th></th>\n",
       "      <th>MaxHR</th>\n",
       "    </tr>\n",
       "  </thead>\n",
       "  <tbody>\n",
       "    <tr>\n",
       "      <th>0</th>\n",
       "      <td>150</td>\n",
       "    </tr>\n",
       "    <tr>\n",
       "      <th>1</th>\n",
       "      <td>108</td>\n",
       "    </tr>\n",
       "    <tr>\n",
       "      <th>2</th>\n",
       "      <td>129</td>\n",
       "    </tr>\n",
       "    <tr>\n",
       "      <th>3</th>\n",
       "      <td>187</td>\n",
       "    </tr>\n",
       "    <tr>\n",
       "      <th>4</th>\n",
       "      <td>172</td>\n",
       "    </tr>\n",
       "  </tbody>\n",
       "</table>\n",
       "</div>"
      ],
      "text/plain": [
       "   MaxHR\n",
       "0    150\n",
       "1    108\n",
       "2    129\n",
       "3    187\n",
       "4    172"
      ]
     },
     "execution_count": 12,
     "metadata": {},
     "output_type": "execute_result"
    }
   ],
   "source": [
    "def np_normalize(array):\n",
    "    minimum = np.min(array)\n",
    "    maximum = np.max(array)\n",
    "    return (array - minimum) / (maximum - minimum)\n",
    "\n",
    "X = np_normalize(X)\n",
    "\n",
    "X.head()"
   ]
  },
  {
   "cell_type": "markdown",
   "metadata": {},
   "source": [
    "Next visualize data: people with AHD have value 1 and people withou have value 0, the x-axis corresponds to the maximum heart rate."
   ]
  },
  {
   "cell_type": "code",
   "execution_count": null,
   "metadata": {},
   "outputs": [
    {
     "data": {
      "text/plain": [
       "<matplotlib.collections.PathCollection at 0x7f87b706e250>"
      ]
     },
     "execution_count": 2,
     "metadata": {},
     "output_type": "execute_result"
    },
    {
     "data": {
      "image/png": "[encoded data removed]",
      "text/plain": [
       "<Figure size 640x480 with 1 Axes>"
      ]
     },
     "metadata": {},
     "output_type": "display_data"
    }
   ],
   "source": [
    "import matplotlib.pyplot as plt\n",
    "\n",
    "plt.scatter(X,y)"
   ]
  },
  {
   "cell_type": "markdown",
   "metadata": {},
   "source": [
    "Now split the data into training and testing dataset and fit logistic regression from the standard model."
   ]
  },
  {
   "cell_type": "code",
   "execution_count": null,
   "metadata": {},
   "outputs": [
    {
     "name": "stderr",
     "output_type": "stream",
     "text": [
      "/home/adrian/.local/lib/python3.8/site-packages/sklearn/base.py:465: UserWarning: X does not have valid feature names, but LogisticRegression was fitted with feature names\n",
      "  warnings.warn(\n"
     ]
    },
    {
     "data": {
      "text/plain": [
       "<matplotlib.legend.Legend at 0x7f87a79a1f40>"
      ]
     },
     "execution_count": 3,
     "metadata": {},
     "output_type": "execute_result"
    },
    {
     "data": {
      "image/png": "[encoded data removed]",
      "text/plain": [
       "<Figure size 640x480 with 1 Axes>"
      ]
     },
     "metadata": {},
     "output_type": "display_data"
    }
   ],
   "source": [
    "#Libraries\n",
    "from sklearn.model_selection import train_test_split\n",
    "from sklearn.linear_model import LogisticRegression\n",
    "\n",
    "#Split and train\n",
    "X_train, X_test, y_train, y_test = train_test_split(X, y, test_size=0.2, random_state=1)\n",
    "model_sci = LogisticRegression(random_state=1).fit(X_train, y_train)\n",
    "\n",
    "#Plot probabilities\n",
    "x_lin = np.linspace(70,200,500).reshape(-1,1)\n",
    "y_proba_sci = model_sci.predict_proba(x_lin)\n",
    "plt.plot(x_lin, y_proba_sci[:, 1])\n",
    "plt.plot(x_lin, np.array([0.5 for i in range(len(y_proba_sci[:,1]))]))\n",
    "plt.legend([\"Probability of heart disease\", \"Categorization treshold\"])"
   ]
  },
  {
   "cell_type": "markdown",
   "metadata": {},
   "source": [
    "## Gradient descent"
   ]
  },
  {
   "cell_type": "markdown",
   "metadata": {},
   "source": [
    "To find approximation of $\\beta_0, \\beta_1$ we resort to a technique called gradient descent. Assume a function $F(\\bm x)$ that describes a hyper-surface where $\\bm x$ is a point of vector space. Now, consider $\\nabla F(\\bm x)$, a gradient of $F(\\bm x)$, it gives the direction of fastest growth of $F(\\bm x)$. Hence, $-\\nabla F(x)$ gives a direction of **fastest descent**.\n",
    "\n",
    "Therefore, we can define a sequence $\\{ \\bm x_n \\}_{n=0}^N$ such that\n",
    "\n",
    "$$\n",
    "\\bm x_{n+1} = \\bm x_n - \\gamma \\nabla F(\\bm x_n),\n",
    "$$\n",
    "\n",
    "where $\\gamma$ is the step size and $N$ is the maximum number of steps. "
   ]
  },
  {
   "cell_type": "markdown",
   "metadata": {},
   "source": [
    "### Estimating parameters"
   ]
  },
  {
   "cell_type": "markdown",
   "metadata": {},
   "source": [
    "Ofcouse, for our purposes we consider $\\bm \\beta = (\\beta_0, \\beta_1)$ with $Loss (p | Y)$. Then consider a sequence of vectors $\\{ \\bm \\beta_n \\}_{n=0}^N$ where $N$ is a maximum number of steps and with an intial guess $\\bm \\beta_0$ such that\n",
    "\n",
    "$$\n",
    "\\bm \\beta_{n+1} = \\bm \\beta_n - \\gamma \\nabla Loss(p | Y),\n",
    "$$\n",
    "where $\\gamma$ is a step size. In particular, note that\n",
    "\n",
    "$$\n",
    "\\nabla Loss(p | Y) = \\frac{1}{N_{\\text{data}}}\\left( \\frac{d \\;l(p | Y)}{d\\; \\beta_0}, \\frac{d \\;l(p | Y)}{d\\; \\beta_1} \\right).\n",
    "$$\n",
    "We have\n",
    "\n",
    "$$\n",
    "\\frac{d \\;l(p | Y)}{d\\; \\beta_m} = - \\sum_{i} \\left( y_i(1-p_i) -  (1-y_i)p_i\\right) x_{i,m} = 0\n",
    "$$\n",
    "\n",
    "where $x_{i,m} = 1$ if $m=0$ and $x_{i,m} = x_i$ otherwise and\n",
    "\n",
    "$$\n",
    "p_i = \\frac{1}{1+\\exp^{-(\\beta_0 + \\beta_1 x_i)}}.\n",
    "$$"
   ]
  },
  {
   "cell_type": "code",
   "execution_count": null,
   "metadata": {},
   "outputs": [],
   "source": [
    "def logistic(betas, X):\n",
    "    X_np = np.array(X)[:,0]\n",
    "    return 1 / (1+np.exp(-(betas[0]+betas[1]* X_np)))\n",
    "\n",
    "def grad_loss(betas, X, y):\n",
    "    N = len(y)\n",
    "    X_np = np.array(X)[:,0]\n",
    "    y_np = np.array(y)\n",
    "    der_beta_0 = -np.dot(y_np, 1-logistic(betas, X)) - np.dot(1-y_np, logistic(betas, X))\n",
    "    der_beta_1 = -np.sum((y_np * ( 1-logistic(betas, X) ) - (1-y_np) * logistic(betas, X) ) * X_np)\n",
    "\n",
    "    return 1/N * np.array([der_beta_0, der_beta_1])"
   ]
  },
  {
   "cell_type": "code",
   "execution_count": null,
   "metadata": {},
   "outputs": [
    {
     "name": "stdout",
     "output_type": "stream",
     "text": [
      "[[ 0.          0.        ]\n",
      " [ 0.005      -0.10919142]\n",
      " [ 0.00958743  0.52965084]\n",
      " ...\n",
      " [ 2.46172101 -0.19173043]\n",
      " [ 2.46630847  0.44711442]\n",
      " [ 2.47172101 -0.4101133 ]]\n",
      "[ 2.47172101 -0.4101133 ]\n"
     ]
    }
   ],
   "source": [
    "gamma = 0.01\n",
    "betas = []\n",
    "init_guess = [0,0]\n",
    "betas.append(init_guess)\n",
    "\n",
    "max_iter = 500\n",
    "\n",
    "for i in range(max_iter):\n",
    "    prev = np.array(betas[-1])\n",
    "    estimate = prev - gamma * grad_loss(betas[-1], X, y)\n",
    "    betas.append(list(estimate))\n",
    "\n",
    "print(np.array(betas)[:])\n",
    "print(np.array(betas[-1]))"
   ]
  }
 ],
 "metadata": {
  "kernelspec": {
   "display_name": "Python 3",
   "language": "python",
   "name": "python3"
  },
  "language_info": {
   "codemirror_mode": {
    "name": "ipython",
    "version": 3
   },
   "file_extension": ".py",
   "mimetype": "text/x-python",
   "name": "python",
   "nbconvert_exporter": "python",
   "pygments_lexer": "ipython3",
   "version": "3.8.10"
  }
 },
 "nbformat": 4,
 "nbformat_minor": 2
}
