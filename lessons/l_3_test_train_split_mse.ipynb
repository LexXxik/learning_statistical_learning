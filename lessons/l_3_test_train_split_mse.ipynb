{
 "cells": [
  {
   "cell_type": "markdown",
   "metadata": {},
   "source": [
    "# Test-train split, MSE"
   ]
  },
  {
   "cell_type": "markdown",
   "metadata": {},
   "source": [
    "So far I have introduced two statistical techniques **simple linear regression**, and **k-nearest-neighbor** to tackle regression problem. In this notebook, we will compare the performance of the two using **MSE**."
   ]
  },
  {
   "cell_type": "markdown",
   "metadata": {},
   "source": [
    "First, however, we have to talk about splitting data. So far we have used whole data set to train the statistical model. This is good for finding as accurate of a model as possible. However, it has a drawback: ``we do not know how will the model perform on unfamiliar data.`` \n",
    "\n",
    "For instance considering k-nearest-neigbors, it seem that $k=1$ would be the best model. The model has no error on the data, or does it? How would the model perform in a novel setting?\n",
    "\n",
    "## Test-train split\n",
    "\n",
    "To answer these quesations, the most straigtforward solution would be to split the data into two sets: **training set**, and **testing set**. The training set will be used to fit the model - approximate coefficient in the case of linear regression. Then the testing set will be used to evaluate model's performance. However, how exactly do we measure model's performance? \n",
    "\n",
    "\n",
    "*As a rule of thumb we will use $80$% of data on training and $20$% for testing.\n",
    "## MSE\n",
    "\n",
    "The **Mean squared error** is a metric that can be used to evaluate performance of a model on regression problem. It is calculated as follows:\n",
    "$$\n",
    "\\text{MSE} = \\frac{1}{n} \\sum_{i=1}^n (y_i-\\hat{y}_i)^2,\n",
    "$$\n",
    "where $n$ is the number of data points in the set, and $\\hat{y}_i$ is the prediction of the statistical model."
   ]
  },
  {
   "cell_type": "markdown",
   "metadata": {},
   "source": [
    "## Code"
   ]
  },
  {
   "cell_type": "markdown",
   "metadata": {},
   "source": [
    "Let's start by improting required libraries"
   ]
  },
  {
   "cell_type": "code",
   "execution_count": 1,
   "metadata": {},
   "outputs": [],
   "source": [
    "import pandas as pd \n",
    "import numpy as np \n",
    "import matplotlib.pyplot as plt\n",
    "\n",
    "# Import statistical models\n",
    "from sklearn.linear_model import LinearRegression\n",
    "from sklearn.neighbors import KNeighborsRegressor\n",
    "\n",
    "# Import function that splits the data\n",
    "from sklearn.model_selection import train_test_split\n",
    "\n",
    "# Import MSE metric\n",
    "from sklearn.metrics import mean_squared_error "
   ]
  },
  {
   "cell_type": "markdown",
   "metadata": {},
   "source": [
    "Read data."
   ]
  },
  {
   "cell_type": "code",
   "execution_count": 2,
   "metadata": {},
   "outputs": [
    {
     "data": {
      "text/html": [
       "<div>\n",
       "<style scoped>\n",
       "    .dataframe tbody tr th:only-of-type {\n",
       "        vertical-align: middle;\n",
       "    }\n",
       "\n",
       "    .dataframe tbody tr th {\n",
       "        vertical-align: top;\n",
       "    }\n",
       "\n",
       "    .dataframe thead th {\n",
       "        text-align: right;\n",
       "    }\n",
       "</style>\n",
       "<table border=\"1\" class=\"dataframe\">\n",
       "  <thead>\n",
       "    <tr style=\"text-align: right;\">\n",
       "      <th></th>\n",
       "      <th>Income</th>\n",
       "      <th>Limit</th>\n",
       "      <th>Rating</th>\n",
       "      <th>Cards</th>\n",
       "      <th>Age</th>\n",
       "      <th>Education</th>\n",
       "      <th>Own</th>\n",
       "      <th>Student</th>\n",
       "      <th>Married</th>\n",
       "      <th>Region</th>\n",
       "      <th>Balance</th>\n",
       "    </tr>\n",
       "  </thead>\n",
       "  <tbody>\n",
       "    <tr>\n",
       "      <th>0</th>\n",
       "      <td>14.891</td>\n",
       "      <td>3606</td>\n",
       "      <td>283</td>\n",
       "      <td>2</td>\n",
       "      <td>34</td>\n",
       "      <td>11</td>\n",
       "      <td>No</td>\n",
       "      <td>No</td>\n",
       "      <td>Yes</td>\n",
       "      <td>South</td>\n",
       "      <td>333</td>\n",
       "    </tr>\n",
       "    <tr>\n",
       "      <th>1</th>\n",
       "      <td>106.025</td>\n",
       "      <td>6645</td>\n",
       "      <td>483</td>\n",
       "      <td>3</td>\n",
       "      <td>82</td>\n",
       "      <td>15</td>\n",
       "      <td>Yes</td>\n",
       "      <td>Yes</td>\n",
       "      <td>Yes</td>\n",
       "      <td>West</td>\n",
       "      <td>903</td>\n",
       "    </tr>\n",
       "    <tr>\n",
       "      <th>2</th>\n",
       "      <td>104.593</td>\n",
       "      <td>7075</td>\n",
       "      <td>514</td>\n",
       "      <td>4</td>\n",
       "      <td>71</td>\n",
       "      <td>11</td>\n",
       "      <td>No</td>\n",
       "      <td>No</td>\n",
       "      <td>No</td>\n",
       "      <td>West</td>\n",
       "      <td>580</td>\n",
       "    </tr>\n",
       "    <tr>\n",
       "      <th>3</th>\n",
       "      <td>148.924</td>\n",
       "      <td>9504</td>\n",
       "      <td>681</td>\n",
       "      <td>3</td>\n",
       "      <td>36</td>\n",
       "      <td>11</td>\n",
       "      <td>Yes</td>\n",
       "      <td>No</td>\n",
       "      <td>No</td>\n",
       "      <td>West</td>\n",
       "      <td>964</td>\n",
       "    </tr>\n",
       "    <tr>\n",
       "      <th>4</th>\n",
       "      <td>55.882</td>\n",
       "      <td>4897</td>\n",
       "      <td>357</td>\n",
       "      <td>2</td>\n",
       "      <td>68</td>\n",
       "      <td>16</td>\n",
       "      <td>No</td>\n",
       "      <td>No</td>\n",
       "      <td>Yes</td>\n",
       "      <td>South</td>\n",
       "      <td>331</td>\n",
       "    </tr>\n",
       "  </tbody>\n",
       "</table>\n",
       "</div>"
      ],
      "text/plain": [
       "    Income  Limit  Rating  Cards  Age  Education  Own Student Married Region  \\\n",
       "0   14.891   3606     283      2   34         11   No      No     Yes  South   \n",
       "1  106.025   6645     483      3   82         15  Yes     Yes     Yes   West   \n",
       "2  104.593   7075     514      4   71         11   No      No      No   West   \n",
       "3  148.924   9504     681      3   36         11  Yes      No      No   West   \n",
       "4   55.882   4897     357      2   68         16   No      No     Yes  South   \n",
       "\n",
       "   Balance  \n",
       "0      333  \n",
       "1      903  \n",
       "2      580  \n",
       "3      964  \n",
       "4      331  "
      ]
     },
     "execution_count": 2,
     "metadata": {},
     "output_type": "execute_result"
    }
   ],
   "source": [
    "df = pd.read_csv(\"../data/Credit.csv\")\n",
    "\n",
    "X = df[['Income']]\n",
    "y = df['Limit']\n",
    "df.head()"
   ]
  },
  {
   "cell_type": "markdown",
   "metadata": {},
   "source": [
    "Now, we split data into training and testing sets with ``random_state=1`` which ensures that data will be split the same."
   ]
  },
  {
   "cell_type": "code",
   "execution_count": 3,
   "metadata": {},
   "outputs": [],
   "source": [
    "X_train, X_test, y_train, y_test = train_test_split(X, y, test_size=0.2, random_state=1)"
   ]
  },
  {
   "cell_type": "markdown",
   "metadata": {},
   "source": [
    "Next we train linear regression and k-nearest neighbor on training data and plot it."
   ]
  },
  {
   "cell_type": "code",
   "execution_count": 4,
   "metadata": {},
   "outputs": [
    {
     "name": "stderr",
     "output_type": "stream",
     "text": [
      "/home/adrian/.local/lib/python3.8/site-packages/sklearn/base.py:465: UserWarning: X does not have valid feature names, but KNeighborsRegressor was fitted with feature names\n",
      "  warnings.warn(\n"
     ]
    },
    {
     "data": {
      "text/plain": [
       "[<matplotlib.lines.Line2D at 0x7f22ee9e2d60>]"
      ]
     },
     "execution_count": 4,
     "metadata": {},
     "output_type": "execute_result"
    },
    {
     "data": {
      "image/png": "[encoded data removed]",
      "text/plain": [
       "<Figure size 640x480 with 1 Axes>"
      ]
     },
     "metadata": {},
     "output_type": "display_data"
    }
   ],
   "source": [
    "# Linear regression\n",
    "lin_model = LinearRegression().fit(X_train, y_train)\n",
    "\n",
    "# K-nearest-neighbor\n",
    "k_model = KNeighborsRegressor(n_neighbors=30).fit(X_train, y_train)\n",
    "\n",
    "x_plot_values = pd.DataFrame(np.linspace(X_train.min().iloc[0], X_train.max().iloc[0], 2000))\n",
    "\n",
    "y_lin_pred = lin_model.predict(X_train)\n",
    "y_k_pred = k_model.predict(x_plot_values)\n",
    "\n",
    "plt.scatter(X_train, y_train, marker='o')\n",
    "plt.plot(X_train, y_lin_pred, color='red')\n",
    "plt.plot(x_plot_values, y_k_pred, color=\"purple\")"
   ]
  },
  {
   "cell_type": "markdown",
   "metadata": {},
   "source": [
    "It is difficult to decide which model is better. Hence we use **MSE** to quantify performance on the **testsing set**."
   ]
  },
  {
   "cell_type": "code",
   "execution_count": 5,
   "metadata": {},
   "outputs": [
    {
     "name": "stdout",
     "output_type": "stream",
     "text": [
      "MSE of k-nearest neighbors is  2263692.157416667\n",
      "Linear regression has MSE of  2116453.0990219414\n",
      "False\n"
     ]
    }
   ],
   "source": [
    "y_k_test_pred = k_model.predict(X_test)\n",
    "y_lin_test_pred = lin_model.predict(X_test)\n",
    "\n",
    "k_mse = mean_squared_error(y_test, y_k_test_pred)\n",
    "lin_mse = mean_squared_error(y_test, y_lin_test_pred)\n",
    "\n",
    "print(\"MSE of k-nearest neighbors is \", str(k_mse))\n",
    "print(\"Linear regression has MSE of \", str(lin_mse))\n",
    "\n",
    "print(lin_mse > k_mse)"
   ]
  },
  {
   "cell_type": "markdown",
   "metadata": {},
   "source": [
    "In this case linear regression outperforms k-nearest-neighbor, but what happens if change k?"
   ]
  },
  {
   "cell_type": "code",
   "execution_count": 6,
   "metadata": {},
   "outputs": [
    {
     "name": "stdout",
     "output_type": "stream",
     "text": [
      "MSE of k-nearest neighbors is  2109885.63134375\n",
      "Linear regression has MSE of  2116453.0990219414\n",
      "True\n"
     ]
    }
   ],
   "source": [
    "y_k_test_pred = k_model.predict(X_test)\n",
    "\n",
    "k_model_2 = KNeighborsRegressor(n_neighbors=20).fit(X_train,y_train)\n",
    "y_k_test_pred = k_model_2.predict(X_test)\n",
    "k_mse = mean_squared_error(y_test, y_k_test_pred)\n",
    "\n",
    "print(\"MSE of k-nearest neighbors is \", str(k_mse))\n",
    "print(\"Linear regression has MSE of \", str(lin_mse))\n",
    "\n",
    "print(lin_mse > k_mse)"
   ]
  },
  {
   "cell_type": "markdown",
   "metadata": {},
   "source": [
    "In this case we see that k-nearest-neighbors performs better. However, how do we go about selecting parameter $k$? We will look at it in the next notebook."
   ]
  },
  {
   "cell_type": "markdown",
   "metadata": {},
   "source": [
    "# Conclusion\n",
    "To test performance of the statistical model, we need to test its perfromance on the previously unseen data. To achieve this we, initially, split data into training and testing set. I have also introduced **MSE** a quantity to measure performance of the model. Lastly, I left with a question: how to select parameter $k$?"
   ]
  }
 ],
 "metadata": {
  "kernelspec": {
   "display_name": "Python 3",
   "language": "python",
   "name": "python3"
  },
  "language_info": {
   "codemirror_mode": {
    "name": "ipython",
    "version": 3
   },
   "file_extension": ".py",
   "mimetype": "text/x-python",
   "name": "python",
   "nbconvert_exporter": "python",
   "pygments_lexer": "ipython3",
   "version": "3.8.10"
  }
 },
 "nbformat": 4,
 "nbformat_minor": 2
}
